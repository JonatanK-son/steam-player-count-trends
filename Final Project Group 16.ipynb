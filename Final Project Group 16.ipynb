{
 "cells": [
  {
   "cell_type": "code",
   "execution_count": 1,
   "id": "2a9ac333-2ad4-4334-82fc-045d55a2aacd",
   "metadata": {},
   "outputs": [],
   "source": [
    "import requests\n",
    "import pandas as pd\n",
    "from datetime import datetime, timedelta, timezone"
   ]
  },
  {
   "cell_type": "code",
   "execution_count": 7,
   "id": "8764bb56-3c2c-4afb-9a81-0ed7d6b712db",
   "metadata": {},
   "outputs": [
    {
     "ename": "SyntaxError",
     "evalue": "Missing parentheses in call to 'print'. Did you mean print(...)? (1830113574.py, line 50)",
     "output_type": "error",
     "traceback": [
      "\u001b[1;36m  Cell \u001b[1;32mIn[7], line 50\u001b[1;36m\u001b[0m\n\u001b[1;33m    print df.to_csv(\"steamcharts_30_days_2.csv\")\u001b[0m\n\u001b[1;37m    ^\u001b[0m\n\u001b[1;31mSyntaxError\u001b[0m\u001b[1;31m:\u001b[0m Missing parentheses in call to 'print'. Did you mean print(...)?\n"
     ]
    }
   ],
   "source": [
    "# This cell handles data collection, only run this if you want fresh data\n",
    "# There is an issue where sometimes the genres of some games gets fetched in different lagnguages,\n",
    "# This seems to be an issue with Steam's API\n",
    "\n",
    "\n",
    "appids = [730, 570, 578080, 1172470, 3164500, 2694490, 2923300, 431960, 3419430, 2246340, 252490, 2767030, 1203220, 2507950, 271590, 1086940, 413150, 236390, 480, 3241660, 2252570, \n",
    "          3240220, 1938090, 230410, 1366800, 359550, 1174180, 286690, 2669320, 381210, 394360, 440, 322330, 1245620, 221100, 1281930, 3188910, 438100, 289070, 105600, 227300, \n",
    "          1782210, 1222670, 2878980, 3117820, 294100, 1623730, 346110, 1973530, 1364780]\n",
    "\n",
    "now = datetime.now(timezone.utc)\n",
    "thirty_days_ago = now - timedelta(days=30)\n",
    "thirty_days_ago_ts = int(thirty_days_ago.timestamp() * 1000)\n",
    "\n",
    "def get_game_metadata(appid):\n",
    "    try:\n",
    "        res = requests.get(f\"https://store.steampowered.com/api/appdetails?appids={appid}\")\n",
    "        res.raise_for_status()\n",
    "        data = res.json()\n",
    "        game_data = data[str(appid)]\n",
    "        if game_data[\"success\"]:\n",
    "            name = game_data[\"data\"].get(\"name\", f\"Unknown_{appid}\")\n",
    "            genres = game_data[\"data\"].get(\"genres\", [])\n",
    "            genre_names = \", \".join([g[\"description\"] for g in genres]) if genres else \"Unknown\"\n",
    "            return name, genre_names\n",
    "    except Exception as e:\n",
    "        print(f\"Failed to get metadata for {appid}: {e}\")\n",
    "    return f\"Unknown_{appid}\", \"Unknown\"\n",
    "\n",
    "all_data = []\n",
    "\n",
    "for appid in appids:\n",
    "    name, genres = get_game_metadata(appid)\n",
    "    try:\n",
    "        url = f\"https://steamcharts.com/app/{appid}/chart-data.json\"\n",
    "        res = requests.get(url)\n",
    "        res.raise_for_status()\n",
    "        data = res.json()\n",
    "\n",
    "        for timestamp, avg_players in data:\n",
    "            if timestamp >= thirty_days_ago_ts:\n",
    "                date = pd.to_datetime(timestamp, unit=\"ms\")\n",
    "                all_data.append({\n",
    "                    \"Game\": name,\n",
    "                    \"Genre\": genres,\n",
    "                    \"Date\": date,\n",
    "                    \"AvgPlayers\": avg_players\n",
    "                })\n",
    "    except Exception as e:\n",
    "        print(f\"Failed to fetch chart data for {name} (AppID {appid}): {e}\")\n",
    "\n",
    "df = pd.DataFrame(all_data)\n",
    "df.sort_values(by=[\"Game\", \"Date\"], inplace=True)\n",
    "df.to_csv(\"steamcharts_30_days_2.csv\", index=False)"
   ]
  },
  {
   "cell_type": "code",
   "execution_count": 17,
   "id": "7c9afb18-c4d6-474a-815c-74a27a3f926d",
   "metadata": {},
   "outputs": [],
   "source": [
    "playerData = pd.read_csv('steamcharts_30_days_2.csv')"
   ]
  },
  {
   "cell_type": "code",
   "execution_count": 21,
   "id": "41ea893a-622b-4438-847a-b911379497aa",
   "metadata": {},
   "outputs": [],
   "source": [
    "# Normalize AvgPlayers per game and store in new column\n",
    "playerData[\"NormalizedPlayerCount\"] = playerData.groupby(\"Game\")[\"AvgPlayers\"].transform(\n",
    "    lambda x: (x - x.min()) / (x.max() - x.min()) if x.max() != x.min() else 0\n",
    ")"
   ]
  },
  {
   "cell_type": "code",
   "execution_count": null,
   "id": "cbdca950-c298-4909-bd68-dba88d55686f",
   "metadata": {},
   "outputs": [],
   "source": [
    "playerData = playerData[playerData[\"AvgPlayers\"]"
   ]
  },
  {
   "cell_type": "code",
   "execution_count": null,
   "id": "cee8609b-f580-44b1-80e0-616be7f67403",
   "metadata": {},
   "outputs": [],
   "source": [
    "# Iterate through each game and plot its data\n",
    "for game in playerData[\"Game\"].unique():\n",
    "    game_data = playerData[playerData[\"Game\"] == game]\n",
    "\n",
    "plt.figure(figsize=(10, 5))\n",
    "plt.plot(game_data[\"Date\"], game_data)"
   ]
  }
 ],
 "metadata": {
  "kernelspec": {
   "display_name": "Python 3 (ipykernel)",
   "language": "python",
   "name": "python3"
  },
  "language_info": {
   "codemirror_mode": {
    "name": "ipython",
    "version": 3
   },
   "file_extension": ".py",
   "mimetype": "text/x-python",
   "name": "python",
   "nbconvert_exporter": "python",
   "pygments_lexer": "ipython3",
   "version": "3.12.7"
  }
 },
 "nbformat": 4,
 "nbformat_minor": 5
}
